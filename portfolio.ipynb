{
 "cells": [
  {
   "cell_type": "code",
   "execution_count": null,
   "metadata": {},
   "outputs": [],
   "source": [
    "import json\n",
    "from time import sleep\n",
    "\n",
    "import seaborn as sns\n",
    "import matplotlib.pyplot as plt\n",
    "from pypfopt.efficient_frontier import EfficientFrontier, EfficientCVaR\n",
    "from pypfopt import risk_models, expected_returns\n",
    "\n",
    "from library.data import *"
   ]
  },
  {
   "cell_type": "code",
   "execution_count": null,
   "metadata": {},
   "outputs": [],
   "source": [
    "# パラメータの設定\n",
    "str_date = \"2017-04-01\"\n",
    "end_date = \"2022-03-31\"\n",
    "with open(\"assets.json\", \"r\") as f:\n",
    "    asset_list = json.load(f)"
   ]
  },
  {
   "cell_type": "code",
   "execution_count": null,
   "metadata": {},
   "outputs": [],
   "source": [
    "# スクレイピング\n",
    "df_list = []\n",
    "for asset in asset_list:\n",
    "    df = get_data(ISIN=asset[\"ISIN\"], FUND=asset[\"FUND\"])\n",
    "    df_list.append(df)\n",
    "    sleep(1)\n",
    "\n",
    "df_join = None\n",
    "for asset, df in zip(asset_list, df_list):\n",
    "  df_join = join_data(df, df_join, asset[\"name\"], str_date, end_date)"
   ]
  },
  {
   "cell_type": "code",
   "execution_count": null,
   "metadata": {},
   "outputs": [],
   "source": [
    "# 時系列をプロット\n",
    "plt.rcParams[\"font.family\"] = 'Hiragino Sans'  \n",
    "for asset in asset_list:\n",
    "    plt.plot(df_join[asset[\"name\"]], label=asset[\"name\"])\n",
    "plt.legend()"
   ]
  },
  {
   "cell_type": "code",
   "execution_count": null,
   "metadata": {},
   "outputs": [],
   "source": [
    "# 相関係数を可視化\n",
    "df_corr = df_join.corr()\n",
    "sns.set(font='Hiragino Sans')\n",
    "sns.heatmap(df_corr)"
   ]
  },
  {
   "cell_type": "code",
   "execution_count": null,
   "metadata": {},
   "outputs": [],
   "source": [
    "# 効率的フロンティアの計算\n",
    "mu = expected_returns.mean_historical_return(df_join)\n",
    "S = risk_models.sample_cov(df_join)\n",
    "ef = EfficientFrontier(mu, S)\n",
    "ef.efficient_return(target_return=0.1)"
   ]
  },
  {
   "cell_type": "code",
   "execution_count": null,
   "metadata": {},
   "outputs": [],
   "source": [
    "# CVaR最小化\n",
    "returns = expected_returns.returns_from_prices(df_join)\n",
    "ef_CVaR = EfficientCVaR(expected_returns=mu, returns=returns, beta=0.95)\n",
    "ef_CVaR.efficient_return(target_return=0.1)"
   ]
  }
 ],
 "metadata": {
  "kernelspec": {
   "display_name": "Python 3.7.1 ('.venv': venv)",
   "language": "python",
   "name": "python3"
  },
  "language_info": {
   "codemirror_mode": {
    "name": "ipython",
    "version": 3
   },
   "file_extension": ".py",
   "mimetype": "text/x-python",
   "name": "python",
   "nbconvert_exporter": "python",
   "pygments_lexer": "ipython3",
   "version": "3.7.1"
  },
  "orig_nbformat": 4,
  "vscode": {
   "interpreter": {
    "hash": "e9adedebc2f3af1de05ae38b9ccd5acb2f7feaecea9c46f6644aba44d1392fff"
   }
  }
 },
 "nbformat": 4,
 "nbformat_minor": 2
}
